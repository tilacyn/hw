{
 "cells": [
  {
   "cell_type": "code",
   "execution_count": 68,
   "metadata": {},
   "outputs": [],
   "source": [
    "import numpy as np\n",
    "import math\n",
    "import matplotlib.pyplot as plt\n",
    "import imageio\n",
    "from tqdm.notebook import tnrange, tqdm_notebook"
   ]
  },
  {
   "cell_type": "markdown",
   "metadata": {},
   "source": [
    "## Set parameters"
   ]
  },
  {
   "cell_type": "code",
   "execution_count": 69,
   "metadata": {},
   "outputs": [],
   "source": [
    "def set_u_kappa(u_p, kappa_p):\n",
    "    global u, kappa, s, r\n",
    "    u = u_p\n",
    "    kappa = kappa_p\n",
    "    s = u * dt / dx\n",
    "    r = kappa * dt / (dx ** 2)"
   ]
  },
  {
   "cell_type": "code",
   "execution_count": 70,
   "metadata": {},
   "outputs": [],
   "source": [
    "dx = 4e-7\n",
    "dt = 0.01\n",
    "\n",
    "\n",
    "\n",
    "\n",
    "teta = 5\n",
    "a = 0\n",
    "b = 1e-4\n",
    "\n",
    "K = int((b - a) / dx) + 1\n",
    "\n",
    "start = np.zeros(K, dtype=np.float64)\n",
    "for i in range(K // 2):\n",
    "    start[i] = 1."
   ]
  },
  {
   "cell_type": "markdown",
   "metadata": {},
   "source": [
    "## Define functions"
   ]
  },
  {
   "cell_type": "code",
   "execution_count": 86,
   "metadata": {},
   "outputs": [],
   "source": [
    "def solve_linear(a, b, c, d):\n",
    "    nf = len(d)\n",
    "    ac, bc, cc, dc = map(np.array, (a, b, c, d))\n",
    "    for it in range(1, nf):\n",
    "        mc = ac[it - 1] / bc[it - 1]\n",
    "        bc[it] = bc[it] - mc * cc[it - 1]\n",
    "        dc[it] = dc[it] - mc * dc[it - 1]\n",
    "    xc = bc\n",
    "    xc[-1] = dc[-1] / bc[-1]\n",
    "\n",
    "    for il in range(nf - 2, -1, -1):\n",
    "        xc[il] = (dc[il] - cc[il] * xc[il + 1]) / bc[il]\n",
    "\n",
    "    return xc\n",
    "\n",
    "def get_dt(dx, u, kappa, coeff=0.9):\n",
    "    return coeff * (dx ** 2) / (u * dx + 2 * kappa)\n",
    "\n",
    "\n",
    "\n",
    "\n",
    "def left_border(t):\n",
    "    return 0\n",
    "\n",
    "\n",
    "def right_border(t):\n",
    "    return 0\n",
    "\n",
    "\n",
    "def solve(solver):\n",
    "    t_iterations = int(teta / dt) + 1\n",
    "\n",
    "    Ts = []\n",
    "    Ts.append(start)\n",
    "\n",
    "    for cur_t_iter in range(1, t_iterations + 1):\n",
    "        t = dt * cur_t_iter\n",
    "        cur = solver(t, Ts)\n",
    "        Ts.append(cur)\n",
    "\n",
    "    return Ts\n",
    "\n",
    "\n",
    "def explicit_opposite(t, Ts):\n",
    "    cur = np.zeros(K, dtype=np.float64)\n",
    "    \n",
    "#     print(\"r = {}, s = {}\".format(r, s))\n",
    "\n",
    "\n",
    "    for i in range(K):\n",
    "        prev_t = Ts[-1][i - 1] if i > 0 else left_border(t)\n",
    "        next_t = Ts[-1][i + 1] if i < K - 1 else right_border(t)\n",
    "        cur_t = Ts[-1][i]\n",
    "\n",
    "        cur[i] = cur_t + r * (prev_t + next_t - 2 * cur_t)\n",
    "\n",
    "    return cur\n",
    "\n",
    "\n",
    "def explicit_nonopposite(t, Ts):\n",
    "    cur = np.zeros(K, dtype=np.float64)\n",
    "\n",
    "    for i in range(K):\n",
    "        prev_t = Ts[-1][i - 1] if i > 0 else left_border(t)\n",
    "        next_t = Ts[-1][i + 1] if i < K - 1 else right_border(t)\n",
    "        cur_t = Ts[-1][i]\n",
    "\n",
    "        cur[i] = cur_t - s * (next_t - cur_t) + r * (prev_t + next_t - 2 * cur_t)\n",
    "\n",
    "    return cur\n",
    "\n",
    "\n",
    "def confusion(t, Ts):\n",
    "    #assert math.isclose(chi, 0.)\n",
    "\n",
    "    if len(Ts) == 1:\n",
    "        return explicit_opposite(t, Ts)\n",
    "\n",
    "    cur = np.zeros(K, dtype=np.float64)\n",
    "\n",
    "    for i in range(K):\n",
    "        prev_t = Ts[-1][i - 1] if i > 0 else left_border(t)\n",
    "        next_t = Ts[-1][i + 1] if i < K - 1 else right_border(t)\n",
    "        cur_t = Ts[-2][i]\n",
    "\n",
    "        cur[i] = cur_t - s * (next_t - prev_t)\n",
    "\n",
    "    return cur\n",
    "\n",
    "\n",
    "def implicit_opposite(t, Ts):\n",
    "    a = np.zeros(K - 1, dtype=np.float64)\n",
    "    b = np.zeros(K, dtype=np.float64)\n",
    "    c = np.zeros(K - 1, dtype=np.float64)\n",
    "    d = np.zeros(K, dtype=np.float64)\n",
    "\n",
    "    for i in range(K):\n",
    "        b[i] = 1 + s + 2 * r\n",
    "        d[i] = Ts[-1][i]\n",
    "    d[0] += left_border(t) * (r + s)\n",
    "    d[K - 1] += right_border(t) * r\n",
    "    for i in range(K - 1):\n",
    "        a[i] = - r - s\n",
    "        c[i] = -r\n",
    "    return solve_linear(a, b, c, d)\n",
    "\n",
    "\n",
    "def implicit_nonopposite(t, Ts):\n",
    "    a = np.zeros(K - 1, dtype=np.float64)\n",
    "    b = np.zeros(K, dtype=np.float64)\n",
    "    c = np.zeros(K - 1, dtype=np.float64)\n",
    "    d = np.zeros(K, dtype=np.float64)\n",
    "\n",
    "    for i in range(K):\n",
    "        b[i] = 1 - s + 2 * r\n",
    "        d[i] = Ts[-1][i]\n",
    "    d[0] += left_border(t) * r\n",
    "    d[K - 1] -= right_border(t) * (s - r)\n",
    "\n",
    "    for i in range(K - 1):\n",
    "        a[i] = -r\n",
    "        c[i] = s - r\n",
    "\n",
    "    return solve_linear(a, b, c, d)\n",
    "\n",
    "\n",
    "def plot_img(cur_index, Ts, xs, y_min, y_max):\n",
    "    fig, ax = plt.subplots(figsize=(10, 5))\n",
    "    ax.plot(xs, Ts[cur_index])\n",
    "\n",
    "    ax.set_ylim(y_min, y_max)\n",
    "    ax.set_xlim(0, 1e-4)\n",
    "    \n",
    "\n",
    "    fig.canvas.draw()\n",
    "    image = np.frombuffer(fig.canvas.tostring_rgb(), dtype='uint8')\n",
    "    image = image.reshape(fig.canvas.get_width_height()[::-1] + (3,))\n",
    "\n",
    "    plt.close(fig)\n",
    "\n",
    "    return image\n",
    "\n"
   ]
  },
  {
   "cell_type": "code",
   "execution_count": 87,
   "metadata": {},
   "outputs": [],
   "source": [
    "def run(method, filename, y_min='auto', y_max='auto'):\n",
    "    Ts = solve(method)\n",
    "\n",
    "    print(len(Ts))\n",
    "\n",
    "    xs = [\n",
    "        a + i * dx\n",
    "        for i in range(K)\n",
    "    ]\n",
    "    \n",
    "    if y_min == 'auto':\n",
    "        y_min = max(-1e13, np.min(np.array(Ts)))\n",
    "    \n",
    "    if y_max == 'auto':\n",
    "        y_max = min(1e13, np.max(np.array(Ts)))\n",
    "\n",
    "\n",
    "    frames = [\n",
    "        plot_img(i, Ts, xs, y_min * 0.9, y_max * 1.1)\n",
    "        for i in tqdm_notebook(range(len(Ts)))\n",
    "        if i % 4 == 0\n",
    "    ]\n",
    "    imageio.mimsave(filename, frames, fps=24)"
   ]
  },
  {
   "cell_type": "code",
   "execution_count": 88,
   "metadata": {},
   "outputs": [
    {
     "data": {
      "text/plain": [
       "0.0225"
      ]
     },
     "execution_count": 88,
     "metadata": {},
     "output_type": "execute_result"
    }
   ],
   "source": [
    "s"
   ]
  },
  {
   "cell_type": "code",
   "execution_count": 89,
   "metadata": {},
   "outputs": [
    {
     "data": {
      "text/plain": [
       "0.0"
      ]
     },
     "execution_count": 89,
     "metadata": {},
     "output_type": "execute_result"
    }
   ],
   "source": [
    "r"
   ]
  },
  {
   "cell_type": "code",
   "execution_count": 90,
   "metadata": {},
   "outputs": [
    {
     "name": "stdout",
     "output_type": "stream",
     "text": [
      "502\n"
     ]
    },
    {
     "data": {
      "application/vnd.jupyter.widget-view+json": {
       "model_id": "ed81d1ea993143d6aa0d1ae9c075417c",
       "version_major": 2,
       "version_minor": 0
      },
      "text/plain": [
       "HBox(children=(FloatProgress(value=0.0, max=502.0), HTML(value='')))"
      ]
     },
     "metadata": {},
     "output_type": "display_data"
    },
    {
     "name": "stdout",
     "output_type": "stream",
     "text": [
      "\n"
     ]
    }
   ],
   "source": [
    "set_u_kappa(9e-7, 0)\n",
    "run(explicit_opposite, './kappa0/exp_opp.gif')"
   ]
  },
  {
   "cell_type": "code",
   "execution_count": 84,
   "metadata": {},
   "outputs": [
    {
     "name": "stdout",
     "output_type": "stream",
     "text": [
      "r = 0.0, s = 0.0225\n",
      "r = 0.0, s = 0.0225\n",
      "r = 0.0, s = 0.0225\n",
      "r = 0.0, s = 0.0225\n",
      "r = 0.0, s = 0.0225\n",
      "r = 0.0, s = 0.0225\n",
      "r = 0.0, s = 0.0225\n",
      "r = 0.0, s = 0.0225\n",
      "r = 0.0, s = 0.0225\n",
      "r = 0.0, s = 0.0225\n",
      "r = 0.0, s = 0.0225\n",
      "r = 0.0, s = 0.0225\n",
      "r = 0.0, s = 0.0225\n",
      "r = 0.0, s = 0.0225\n",
      "r = 0.0, s = 0.0225\n",
      "r = 0.0, s = 0.0225\n",
      "r = 0.0, s = 0.0225\n",
      "r = 0.0, s = 0.0225\n",
      "r = 0.0, s = 0.0225\n",
      "r = 0.0, s = 0.0225\n",
      "r = 0.0, s = 0.0225\n",
      "r = 0.0, s = 0.0225\n",
      "r = 0.0, s = 0.0225\n",
      "r = 0.0, s = 0.0225\n",
      "r = 0.0, s = 0.0225\n",
      "r = 0.0, s = 0.0225\n",
      "r = 0.0, s = 0.0225\n",
      "r = 0.0, s = 0.0225\n",
      "r = 0.0, s = 0.0225\n",
      "r = 0.0, s = 0.0225\n",
      "r = 0.0, s = 0.0225\n",
      "r = 0.0, s = 0.0225\n",
      "r = 0.0, s = 0.0225\n",
      "r = 0.0, s = 0.0225\n",
      "r = 0.0, s = 0.0225\n",
      "r = 0.0, s = 0.0225\n",
      "r = 0.0, s = 0.0225\n",
      "r = 0.0, s = 0.0225\n",
      "r = 0.0, s = 0.0225\n",
      "r = 0.0, s = 0.0225\n",
      "r = 0.0, s = 0.0225\n",
      "r = 0.0, s = 0.0225\n",
      "r = 0.0, s = 0.0225\n",
      "r = 0.0, s = 0.0225\n",
      "r = 0.0, s = 0.0225\n",
      "r = 0.0, s = 0.0225\n",
      "r = 0.0, s = 0.0225\n",
      "r = 0.0, s = 0.0225\n",
      "r = 0.0, s = 0.0225\n",
      "r = 0.0, s = 0.0225\n",
      "r = 0.0, s = 0.0225\n",
      "r = 0.0, s = 0.0225\n",
      "r = 0.0, s = 0.0225\n",
      "r = 0.0, s = 0.0225\n",
      "r = 0.0, s = 0.0225\n",
      "r = 0.0, s = 0.0225\n",
      "r = 0.0, s = 0.0225\n",
      "r = 0.0, s = 0.0225\n",
      "r = 0.0, s = 0.0225\n",
      "r = 0.0, s = 0.0225\n",
      "r = 0.0, s = 0.0225\n",
      "r = 0.0, s = 0.0225\n",
      "r = 0.0, s = 0.0225\n",
      "r = 0.0, s = 0.0225\n",
      "r = 0.0, s = 0.0225\n",
      "r = 0.0, s = 0.0225\n",
      "r = 0.0, s = 0.0225\n",
      "r = 0.0, s = 0.0225\n",
      "r = 0.0, s = 0.0225\n",
      "r = 0.0, s = 0.0225\n",
      "r = 0.0, s = 0.0225\n",
      "r = 0.0, s = 0.0225\n",
      "r = 0.0, s = 0.0225\n",
      "r = 0.0, s = 0.0225\n",
      "r = 0.0, s = 0.0225\n",
      "r = 0.0, s = 0.0225\n",
      "r = 0.0, s = 0.0225\n",
      "r = 0.0, s = 0.0225\n",
      "r = 0.0, s = 0.0225\n",
      "r = 0.0, s = 0.0225\n",
      "r = 0.0, s = 0.0225\n",
      "r = 0.0, s = 0.0225\n",
      "r = 0.0, s = 0.0225\n",
      "r = 0.0, s = 0.0225\n",
      "r = 0.0, s = 0.0225\n",
      "r = 0.0, s = 0.0225\n",
      "r = 0.0, s = 0.0225\n",
      "r = 0.0, s = 0.0225\n",
      "r = 0.0, s = 0.0225\n",
      "r = 0.0, s = 0.0225\n",
      "r = 0.0, s = 0.0225\n",
      "r = 0.0, s = 0.0225\n",
      "r = 0.0, s = 0.0225\n",
      "r = 0.0, s = 0.0225\n",
      "r = 0.0, s = 0.0225\n",
      "r = 0.0, s = 0.0225\n",
      "r = 0.0, s = 0.0225\n",
      "r = 0.0, s = 0.0225\n",
      "r = 0.0, s = 0.0225\n",
      "r = 0.0, s = 0.0225\n",
      "r = 0.0, s = 0.0225\n",
      "r = 0.0, s = 0.0225\n",
      "r = 0.0, s = 0.0225\n",
      "r = 0.0, s = 0.0225\n",
      "r = 0.0, s = 0.0225\n",
      "r = 0.0, s = 0.0225\n",
      "r = 0.0, s = 0.0225\n",
      "r = 0.0, s = 0.0225\n",
      "r = 0.0, s = 0.0225\n",
      "r = 0.0, s = 0.0225\n",
      "r = 0.0, s = 0.0225\n",
      "r = 0.0, s = 0.0225\n",
      "r = 0.0, s = 0.0225\n",
      "r = 0.0, s = 0.0225\n",
      "r = 0.0, s = 0.0225\n",
      "r = 0.0, s = 0.0225\n",
      "r = 0.0, s = 0.0225\n",
      "r = 0.0, s = 0.0225\n",
      "r = 0.0, s = 0.0225\n",
      "r = 0.0, s = 0.0225\n",
      "r = 0.0, s = 0.0225\n",
      "r = 0.0, s = 0.0225\n",
      "r = 0.0, s = 0.0225\n",
      "r = 0.0, s = 0.0225\n",
      "r = 0.0, s = 0.0225\n",
      "r = 0.0, s = 0.0225\n",
      "r = 0.0, s = 0.0225\n",
      "r = 0.0, s = 0.0225\n",
      "r = 0.0, s = 0.0225\n",
      "r = 0.0, s = 0.0225\n",
      "r = 0.0, s = 0.0225\n",
      "r = 0.0, s = 0.0225\n",
      "r = 0.0, s = 0.0225\n",
      "r = 0.0, s = 0.0225\n",
      "r = 0.0, s = 0.0225\n",
      "r = 0.0, s = 0.0225\n",
      "r = 0.0, s = 0.0225\n",
      "r = 0.0, s = 0.0225\n",
      "r = 0.0, s = 0.0225\n",
      "r = 0.0, s = 0.0225\n",
      "r = 0.0, s = 0.0225\n",
      "r = 0.0, s = 0.0225\n",
      "r = 0.0, s = 0.0225\n",
      "r = 0.0, s = 0.0225\n",
      "r = 0.0, s = 0.0225\n",
      "r = 0.0, s = 0.0225\n",
      "r = 0.0, s = 0.0225\n",
      "r = 0.0, s = 0.0225\n",
      "r = 0.0, s = 0.0225\n",
      "r = 0.0, s = 0.0225\n",
      "r = 0.0, s = 0.0225\n",
      "r = 0.0, s = 0.0225\n",
      "r = 0.0, s = 0.0225\n",
      "r = 0.0, s = 0.0225\n",
      "r = 0.0, s = 0.0225\n",
      "r = 0.0, s = 0.0225\n",
      "r = 0.0, s = 0.0225\n",
      "r = 0.0, s = 0.0225\n",
      "r = 0.0, s = 0.0225\n",
      "r = 0.0, s = 0.0225\n",
      "r = 0.0, s = 0.0225\n",
      "r = 0.0, s = 0.0225\n",
      "r = 0.0, s = 0.0225\n",
      "r = 0.0, s = 0.0225\n",
      "r = 0.0, s = 0.0225\n",
      "r = 0.0, s = 0.0225\n",
      "r = 0.0, s = 0.0225\n",
      "r = 0.0, s = 0.0225\n",
      "r = 0.0, s = 0.0225\n",
      "r = 0.0, s = 0.0225\n",
      "r = 0.0, s = 0.0225\n",
      "r = 0.0, s = 0.0225\n",
      "r = 0.0, s = 0.0225\n",
      "r = 0.0, s = 0.0225\n",
      "r = 0.0, s = 0.0225\n",
      "r = 0.0, s = 0.0225\n",
      "r = 0.0, s = 0.0225\n",
      "r = 0.0, s = 0.0225\n",
      "r = 0.0, s = 0.0225\n",
      "r = 0.0, s = 0.0225\n",
      "r = 0.0, s = 0.0225\n",
      "r = 0.0, s = 0.0225\n",
      "r = 0.0, s = 0.0225\n",
      "r = 0.0, s = 0.0225\n",
      "r = 0.0, s = 0.0225\n",
      "r = 0.0, s = 0.0225\n",
      "r = 0.0, s = 0.0225\n",
      "r = 0.0, s = 0.0225\n",
      "r = 0.0, s = 0.0225\n",
      "r = 0.0, s = 0.0225\n",
      "r = 0.0, s = 0.0225\n",
      "r = 0.0, s = 0.0225\n",
      "r = 0.0, s = 0.0225\n",
      "r = 0.0, s = 0.0225\n",
      "r = 0.0, s = 0.0225\n",
      "r = 0.0, s = 0.0225\n",
      "r = 0.0, s = 0.0225\n",
      "r = 0.0, s = 0.0225\n",
      "r = 0.0, s = 0.0225\n",
      "r = 0.0, s = 0.0225\n",
      "r = 0.0, s = 0.0225\n",
      "r = 0.0, s = 0.0225\n",
      "r = 0.0, s = 0.0225\n",
      "r = 0.0, s = 0.0225\n",
      "r = 0.0, s = 0.0225\n",
      "r = 0.0, s = 0.0225\n",
      "r = 0.0, s = 0.0225\n",
      "r = 0.0, s = 0.0225\n",
      "r = 0.0, s = 0.0225\n",
      "r = 0.0, s = 0.0225\n",
      "r = 0.0, s = 0.0225\n",
      "r = 0.0, s = 0.0225\n",
      "r = 0.0, s = 0.0225\n",
      "r = 0.0, s = 0.0225\n",
      "r = 0.0, s = 0.0225\n",
      "r = 0.0, s = 0.0225\n",
      "r = 0.0, s = 0.0225\n",
      "r = 0.0, s = 0.0225\n",
      "r = 0.0, s = 0.0225\n",
      "r = 0.0, s = 0.0225\n",
      "r = 0.0, s = 0.0225\n",
      "r = 0.0, s = 0.0225\n",
      "r = 0.0, s = 0.0225\n",
      "r = 0.0, s = 0.0225\n",
      "r = 0.0, s = 0.0225\n",
      "r = 0.0, s = 0.0225\n",
      "r = 0.0, s = 0.0225\n",
      "r = 0.0, s = 0.0225\n",
      "r = 0.0, s = 0.0225\n",
      "r = 0.0, s = 0.0225\n",
      "r = 0.0, s = 0.0225\n",
      "r = 0.0, s = 0.0225\n",
      "r = 0.0, s = 0.0225\n",
      "r = 0.0, s = 0.0225\n",
      "r = 0.0, s = 0.0225\n",
      "r = 0.0, s = 0.0225\n",
      "r = 0.0, s = 0.0225\n",
      "r = 0.0, s = 0.0225\n",
      "r = 0.0, s = 0.0225\n",
      "r = 0.0, s = 0.0225\n",
      "r = 0.0, s = 0.0225\n",
      "r = 0.0, s = 0.0225\n",
      "r = 0.0, s = 0.0225\n",
      "r = 0.0, s = 0.0225\n",
      "r = 0.0, s = 0.0225\n",
      "r = 0.0, s = 0.0225\n",
      "r = 0.0, s = 0.0225\n",
      "r = 0.0, s = 0.0225\n",
      "r = 0.0, s = 0.0225\n",
      "r = 0.0, s = 0.0225\n",
      "r = 0.0, s = 0.0225\n",
      "r = 0.0, s = 0.0225\n",
      "r = 0.0, s = 0.0225\n",
      "r = 0.0, s = 0.0225\n",
      "r = 0.0, s = 0.0225\n",
      "r = 0.0, s = 0.0225\n",
      "r = 0.0, s = 0.0225\n",
      "r = 0.0, s = 0.0225\n",
      "r = 0.0, s = 0.0225\n",
      "r = 0.0, s = 0.0225\n",
      "r = 0.0, s = 0.0225\n",
      "r = 0.0, s = 0.0225\n",
      "r = 0.0, s = 0.0225\n",
      "r = 0.0, s = 0.0225\n",
      "r = 0.0, s = 0.0225\n",
      "r = 0.0, s = 0.0225\n",
      "r = 0.0, s = 0.0225\n",
      "r = 0.0, s = 0.0225\n",
      "r = 0.0, s = 0.0225\n",
      "r = 0.0, s = 0.0225\n",
      "r = 0.0, s = 0.0225\n",
      "r = 0.0, s = 0.0225\n",
      "r = 0.0, s = 0.0225\n",
      "r = 0.0, s = 0.0225\n",
      "r = 0.0, s = 0.0225\n",
      "r = 0.0, s = 0.0225\n",
      "r = 0.0, s = 0.0225\n",
      "r = 0.0, s = 0.0225\n",
      "r = 0.0, s = 0.0225\n",
      "r = 0.0, s = 0.0225\n",
      "r = 0.0, s = 0.0225\n",
      "r = 0.0, s = 0.0225\n",
      "r = 0.0, s = 0.0225\n",
      "r = 0.0, s = 0.0225\n",
      "r = 0.0, s = 0.0225\n",
      "r = 0.0, s = 0.0225\n",
      "r = 0.0, s = 0.0225\n",
      "r = 0.0, s = 0.0225\n",
      "r = 0.0, s = 0.0225\n",
      "r = 0.0, s = 0.0225\n",
      "r = 0.0, s = 0.0225\n",
      "r = 0.0, s = 0.0225\n",
      "r = 0.0, s = 0.0225\n",
      "r = 0.0, s = 0.0225\n",
      "r = 0.0, s = 0.0225\n",
      "r = 0.0, s = 0.0225\n",
      "r = 0.0, s = 0.0225\n",
      "r = 0.0, s = 0.0225\n",
      "r = 0.0, s = 0.0225\n",
      "r = 0.0, s = 0.0225\n",
      "r = 0.0, s = 0.0225\n",
      "r = 0.0, s = 0.0225\n",
      "r = 0.0, s = 0.0225\n",
      "r = 0.0, s = 0.0225\n",
      "r = 0.0, s = 0.0225\n",
      "r = 0.0, s = 0.0225\n",
      "r = 0.0, s = 0.0225\n",
      "r = 0.0, s = 0.0225\n",
      "r = 0.0, s = 0.0225\n",
      "r = 0.0, s = 0.0225\n",
      "r = 0.0, s = 0.0225\n",
      "r = 0.0, s = 0.0225\n",
      "r = 0.0, s = 0.0225\n",
      "r = 0.0, s = 0.0225\n",
      "r = 0.0, s = 0.0225\n",
      "r = 0.0, s = 0.0225\n",
      "r = 0.0, s = 0.0225\n",
      "r = 0.0, s = 0.0225\n",
      "r = 0.0, s = 0.0225\n",
      "r = 0.0, s = 0.0225\n",
      "r = 0.0, s = 0.0225\n",
      "r = 0.0, s = 0.0225\n",
      "r = 0.0, s = 0.0225\n",
      "r = 0.0, s = 0.0225\n",
      "r = 0.0, s = 0.0225\n",
      "r = 0.0, s = 0.0225\n",
      "r = 0.0, s = 0.0225\n",
      "r = 0.0, s = 0.0225\n",
      "r = 0.0, s = 0.0225\n",
      "r = 0.0, s = 0.0225\n",
      "r = 0.0, s = 0.0225\n",
      "r = 0.0, s = 0.0225\n",
      "r = 0.0, s = 0.0225\n",
      "r = 0.0, s = 0.0225\n",
      "r = 0.0, s = 0.0225\n",
      "r = 0.0, s = 0.0225\n",
      "r = 0.0, s = 0.0225\n",
      "r = 0.0, s = 0.0225\n",
      "r = 0.0, s = 0.0225\n",
      "r = 0.0, s = 0.0225\n",
      "r = 0.0, s = 0.0225\n",
      "r = 0.0, s = 0.0225\n",
      "r = 0.0, s = 0.0225\n",
      "r = 0.0, s = 0.0225\n",
      "r = 0.0, s = 0.0225\n",
      "r = 0.0, s = 0.0225\n",
      "r = 0.0, s = 0.0225\n",
      "r = 0.0, s = 0.0225\n",
      "r = 0.0, s = 0.0225\n",
      "r = 0.0, s = 0.0225\n",
      "r = 0.0, s = 0.0225\n",
      "r = 0.0, s = 0.0225\n",
      "r = 0.0, s = 0.0225\n",
      "r = 0.0, s = 0.0225\n",
      "r = 0.0, s = 0.0225\n",
      "r = 0.0, s = 0.0225\n",
      "r = 0.0, s = 0.0225\n",
      "r = 0.0, s = 0.0225\n",
      "r = 0.0, s = 0.0225\n",
      "r = 0.0, s = 0.0225\n",
      "r = 0.0, s = 0.0225\n",
      "r = 0.0, s = 0.0225\n",
      "r = 0.0, s = 0.0225\n",
      "r = 0.0, s = 0.0225\n",
      "r = 0.0, s = 0.0225\n",
      "r = 0.0, s = 0.0225\n",
      "r = 0.0, s = 0.0225\n",
      "r = 0.0, s = 0.0225\n",
      "r = 0.0, s = 0.0225\n",
      "r = 0.0, s = 0.0225\n",
      "r = 0.0, s = 0.0225\n",
      "r = 0.0, s = 0.0225\n",
      "r = 0.0, s = 0.0225\n",
      "r = 0.0, s = 0.0225\n",
      "r = 0.0, s = 0.0225\n",
      "r = 0.0, s = 0.0225\n",
      "r = 0.0, s = 0.0225\n",
      "r = 0.0, s = 0.0225\n",
      "r = 0.0, s = 0.0225\n",
      "r = 0.0, s = 0.0225\n",
      "r = 0.0, s = 0.0225\n",
      "r = 0.0, s = 0.0225\n",
      "r = 0.0, s = 0.0225\n",
      "r = 0.0, s = 0.0225\n",
      "r = 0.0, s = 0.0225\n",
      "r = 0.0, s = 0.0225\n",
      "r = 0.0, s = 0.0225\n",
      "r = 0.0, s = 0.0225\n",
      "r = 0.0, s = 0.0225\n",
      "r = 0.0, s = 0.0225\n",
      "r = 0.0, s = 0.0225\n",
      "r = 0.0, s = 0.0225\n",
      "r = 0.0, s = 0.0225\n",
      "r = 0.0, s = 0.0225\n",
      "r = 0.0, s = 0.0225\n",
      "r = 0.0, s = 0.0225\n",
      "r = 0.0, s = 0.0225\n",
      "r = 0.0, s = 0.0225\n",
      "r = 0.0, s = 0.0225\n",
      "r = 0.0, s = 0.0225\n",
      "r = 0.0, s = 0.0225\n",
      "r = 0.0, s = 0.0225\n",
      "r = 0.0, s = 0.0225\n",
      "r = 0.0, s = 0.0225\n",
      "r = 0.0, s = 0.0225\n",
      "r = 0.0, s = 0.0225\n",
      "r = 0.0, s = 0.0225\n",
      "r = 0.0, s = 0.0225\n",
      "r = 0.0, s = 0.0225\n",
      "r = 0.0, s = 0.0225\n",
      "r = 0.0, s = 0.0225\n",
      "r = 0.0, s = 0.0225\n",
      "r = 0.0, s = 0.0225\n",
      "r = 0.0, s = 0.0225\n",
      "r = 0.0, s = 0.0225\n",
      "r = 0.0, s = 0.0225\n",
      "r = 0.0, s = 0.0225\n",
      "r = 0.0, s = 0.0225\n",
      "r = 0.0, s = 0.0225\n",
      "r = 0.0, s = 0.0225\n",
      "r = 0.0, s = 0.0225\n",
      "r = 0.0, s = 0.0225\n",
      "r = 0.0, s = 0.0225\n",
      "r = 0.0, s = 0.0225\n",
      "r = 0.0, s = 0.0225\n",
      "r = 0.0, s = 0.0225\n",
      "r = 0.0, s = 0.0225\n",
      "r = 0.0, s = 0.0225\n",
      "r = 0.0, s = 0.0225\n",
      "r = 0.0, s = 0.0225\n",
      "r = 0.0, s = 0.0225\n",
      "r = 0.0, s = 0.0225\n",
      "r = 0.0, s = 0.0225\n",
      "r = 0.0, s = 0.0225\n",
      "r = 0.0, s = 0.0225\n",
      "r = 0.0, s = 0.0225\n",
      "r = 0.0, s = 0.0225\n",
      "r = 0.0, s = 0.0225\n",
      "r = 0.0, s = 0.0225\n",
      "r = 0.0, s = 0.0225\n",
      "r = 0.0, s = 0.0225\n",
      "r = 0.0, s = 0.0225\n",
      "r = 0.0, s = 0.0225\n",
      "r = 0.0, s = 0.0225\n",
      "r = 0.0, s = 0.0225\n",
      "r = 0.0, s = 0.0225\n",
      "r = 0.0, s = 0.0225\n",
      "r = 0.0, s = 0.0225\n",
      "r = 0.0, s = 0.0225\n",
      "r = 0.0, s = 0.0225\n",
      "r = 0.0, s = 0.0225\n",
      "r = 0.0, s = 0.0225\n",
      "r = 0.0, s = 0.0225\n",
      "r = 0.0, s = 0.0225\n",
      "r = 0.0, s = 0.0225\n",
      "r = 0.0, s = 0.0225\n",
      "r = 0.0, s = 0.0225\n",
      "r = 0.0, s = 0.0225\n",
      "r = 0.0, s = 0.0225\n",
      "r = 0.0, s = 0.0225\n",
      "r = 0.0, s = 0.0225\n",
      "r = 0.0, s = 0.0225\n",
      "r = 0.0, s = 0.0225\n",
      "r = 0.0, s = 0.0225\n",
      "r = 0.0, s = 0.0225\n",
      "r = 0.0, s = 0.0225\n",
      "r = 0.0, s = 0.0225\n",
      "r = 0.0, s = 0.0225\n",
      "r = 0.0, s = 0.0225\n",
      "r = 0.0, s = 0.0225\n",
      "r = 0.0, s = 0.0225\n",
      "r = 0.0, s = 0.0225\n",
      "r = 0.0, s = 0.0225\n",
      "r = 0.0, s = 0.0225\n",
      "r = 0.0, s = 0.0225\n",
      "r = 0.0, s = 0.0225\n",
      "r = 0.0, s = 0.0225\n",
      "r = 0.0, s = 0.0225\n",
      "r = 0.0, s = 0.0225\n",
      "r = 0.0, s = 0.0225\n",
      "r = 0.0, s = 0.0225\n",
      "r = 0.0, s = 0.0225\n",
      "r = 0.0, s = 0.0225\n",
      "r = 0.0, s = 0.0225\n",
      "r = 0.0, s = 0.0225\n",
      "r = 0.0, s = 0.0225\n",
      "r = 0.0, s = 0.0225\n",
      "r = 0.0, s = 0.0225\n",
      "r = 0.0, s = 0.0225\n",
      "r = 0.0, s = 0.0225\n",
      "r = 0.0, s = 0.0225\n",
      "r = 0.0, s = 0.0225\n",
      "r = 0.0, s = 0.0225\n",
      "r = 0.0, s = 0.0225\n",
      "r = 0.0, s = 0.0225\n"
     ]
    },
    {
     "name": "stdout",
     "output_type": "stream",
     "text": [
      "r = 0.0, s = 0.0225\n",
      "r = 0.0, s = 0.0225\n",
      "r = 0.0, s = 0.0225\n",
      "r = 0.0, s = 0.0225\n",
      "r = 0.0, s = 0.0225\n",
      "r = 0.0, s = 0.0225\n",
      "502\n"
     ]
    },
    {
     "data": {
      "application/vnd.jupyter.widget-view+json": {
       "model_id": "2347d7172a2f478da46e1bab0c28ec7b",
       "version_major": 2,
       "version_minor": 0
      },
      "text/plain": [
       "HBox(children=(FloatProgress(value=0.0, max=502.0), HTML(value='')))"
      ]
     },
     "metadata": {},
     "output_type": "display_data"
    },
    {
     "name": "stdout",
     "output_type": "stream",
     "text": [
      "\n",
      "502\n"
     ]
    },
    {
     "data": {
      "application/vnd.jupyter.widget-view+json": {
       "model_id": "d2bcc462d2b4477a967c16ec054dbb2a",
       "version_major": 2,
       "version_minor": 0
      },
      "text/plain": [
       "HBox(children=(FloatProgress(value=0.0, max=502.0), HTML(value='')))"
      ]
     },
     "metadata": {},
     "output_type": "display_data"
    },
    {
     "name": "stdout",
     "output_type": "stream",
     "text": [
      "\n",
      "502\n"
     ]
    },
    {
     "data": {
      "application/vnd.jupyter.widget-view+json": {
       "model_id": "be753e09f8f344bab673bdb47d67a122",
       "version_major": 2,
       "version_minor": 0
      },
      "text/plain": [
       "HBox(children=(FloatProgress(value=0.0, max=502.0), HTML(value='')))"
      ]
     },
     "metadata": {},
     "output_type": "display_data"
    },
    {
     "name": "stdout",
     "output_type": "stream",
     "text": [
      "\n",
      "502\n"
     ]
    },
    {
     "data": {
      "application/vnd.jupyter.widget-view+json": {
       "model_id": "f91977261669455ea165def945bfa2a3",
       "version_major": 2,
       "version_minor": 0
      },
      "text/plain": [
       "HBox(children=(FloatProgress(value=0.0, max=502.0), HTML(value='')))"
      ]
     },
     "metadata": {},
     "output_type": "display_data"
    },
    {
     "name": "stdout",
     "output_type": "stream",
     "text": [
      "\n",
      "r = 0.0, s = 0.0225\n",
      "502\n"
     ]
    },
    {
     "data": {
      "application/vnd.jupyter.widget-view+json": {
       "model_id": "f134ed2a42f34eb3bff85fc67ae765d6",
       "version_major": 2,
       "version_minor": 0
      },
      "text/plain": [
       "HBox(children=(FloatProgress(value=0.0, max=502.0), HTML(value='')))"
      ]
     },
     "metadata": {},
     "output_type": "display_data"
    },
    {
     "name": "stdout",
     "output_type": "stream",
     "text": [
      "\n"
     ]
    }
   ],
   "source": [
    "run(explicit_nonopposite, './kappa0/exp_nonopp.gif')\n",
    "run(implicit_opposite, './kappa0/imp_opp.gif')\n",
    "run(implicit_nonopposite, './kappa0/imp_nonopp.gif')\n",
    "run(confusion, './kappa0/conf.gif')"
   ]
  },
  {
   "cell_type": "markdown",
   "metadata": {},
   "source": [
    "## Kappa = 0, Explicit Opposite\n",
    "![SegmentLocal](kappa0/exp_opp.gif \"Explicit Opposite\")"
   ]
  },
  {
   "cell_type": "markdown",
   "metadata": {},
   "source": [
    "## Kappa = 0, Explicit Non-opposite\n",
    "![SegmentLocal](kappa0/exp_nonopp.gif \"Explicit Non-opposite\")"
   ]
  },
  {
   "cell_type": "markdown",
   "metadata": {},
   "source": [
    "## Kappa = 0, Implicit Opposite\n",
    "![SegmentLocal](kappa0/imp_opp.gif \"Implicit Opposite\")"
   ]
  },
  {
   "cell_type": "markdown",
   "metadata": {},
   "source": [
    "## Kappa = 0, Implicit Non-opposite\n",
    "![SegmentLocal](kappa0/imp_nonopp.gif \"Implicit Non-opposite\")"
   ]
  },
  {
   "cell_type": "markdown",
   "metadata": {},
   "source": [
    "## Kappa = 0, Confusion\n",
    "![SegmentLocal](kappa0/conf.gif \"Confusion\")"
   ]
  },
  {
   "cell_type": "code",
   "execution_count": 76,
   "metadata": {},
   "outputs": [
    {
     "name": "stdout",
     "output_type": "stream",
     "text": [
      "502\n"
     ]
    },
    {
     "data": {
      "application/vnd.jupyter.widget-view+json": {
       "model_id": "38b4f0930997496bbe0309885a403e7b",
       "version_major": 2,
       "version_minor": 0
      },
      "text/plain": [
       "HBox(children=(FloatProgress(value=0.0, max=502.0), HTML(value='')))"
      ]
     },
     "metadata": {},
     "output_type": "display_data"
    },
    {
     "name": "stdout",
     "output_type": "stream",
     "text": [
      "\n",
      "502\n"
     ]
    },
    {
     "data": {
      "application/vnd.jupyter.widget-view+json": {
       "model_id": "6585ef5ecba94d308cd3f3fce384ab7e",
       "version_major": 2,
       "version_minor": 0
      },
      "text/plain": [
       "HBox(children=(FloatProgress(value=0.0, max=502.0), HTML(value='')))"
      ]
     },
     "metadata": {},
     "output_type": "display_data"
    },
    {
     "name": "stdout",
     "output_type": "stream",
     "text": [
      "\n",
      "502\n"
     ]
    },
    {
     "data": {
      "application/vnd.jupyter.widget-view+json": {
       "model_id": "d0bfe1b5ffef43c7855b206554f5668b",
       "version_major": 2,
       "version_minor": 0
      },
      "text/plain": [
       "HBox(children=(FloatProgress(value=0.0, max=502.0), HTML(value='')))"
      ]
     },
     "metadata": {},
     "output_type": "display_data"
    },
    {
     "name": "stdout",
     "output_type": "stream",
     "text": [
      "\n",
      "502\n"
     ]
    },
    {
     "data": {
      "application/vnd.jupyter.widget-view+json": {
       "model_id": "87128caa662f48739fa21dbfa2f71015",
       "version_major": 2,
       "version_minor": 0
      },
      "text/plain": [
       "HBox(children=(FloatProgress(value=0.0, max=502.0), HTML(value='')))"
      ]
     },
     "metadata": {},
     "output_type": "display_data"
    },
    {
     "name": "stdout",
     "output_type": "stream",
     "text": [
      "\n",
      "502\n"
     ]
    },
    {
     "data": {
      "application/vnd.jupyter.widget-view+json": {
       "model_id": "7ecb98527ce049ed808b3734ce02406e",
       "version_major": 2,
       "version_minor": 0
      },
      "text/plain": [
       "HBox(children=(FloatProgress(value=0.0, max=502.0), HTML(value='')))"
      ]
     },
     "metadata": {},
     "output_type": "display_data"
    },
    {
     "name": "stdout",
     "output_type": "stream",
     "text": [
      "\n"
     ]
    }
   ],
   "source": [
    "set_u_kappa(0, 8e-12)\n",
    "run(explicit_opposite, './u0/exp_opp.gif')\n",
    "run(explicit_nonopposite, './u0/exp_nonopp.gif')\n",
    "run(implicit_opposite, './u0/imp_opp.gif')\n",
    "run(implicit_nonopposite, './u0/imp_nonopp.gif')\n",
    "run(confusion, './u0/conf.gif')"
   ]
  },
  {
   "cell_type": "markdown",
   "metadata": {},
   "source": [
    "## u = 0, Explicit Opposite\n",
    "![SegmentLocal](u0/exp_opp.gif \"Confusion\")"
   ]
  }
 ],
 "metadata": {
  "kernelspec": {
   "display_name": "Python 3",
   "language": "python",
   "name": "python3"
  },
  "language_info": {
   "codemirror_mode": {
    "name": "ipython",
    "version": 3
   },
   "file_extension": ".py",
   "mimetype": "text/x-python",
   "name": "python",
   "nbconvert_exporter": "python",
   "pygments_lexer": "ipython3",
   "version": "3.7.6"
  }
 },
 "nbformat": 4,
 "nbformat_minor": 4
}

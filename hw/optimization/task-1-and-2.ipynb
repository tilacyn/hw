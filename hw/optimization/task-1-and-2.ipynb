{
 "cells": [
  {
   "cell_type": "code",
   "execution_count": 117,
   "metadata": {},
   "outputs": [],
   "source": [
    "import math\n",
    "sqrt5 = math.sqrt(5)\n",
    "f = lambda x: x ** 2 - 1\n",
    "f2 = lambda x: (x + 0.23000) ** 2 - 1"
   ]
  },
  {
   "cell_type": "code",
   "execution_count": 177,
   "metadata": {},
   "outputs": [],
   "source": [
    "import numpy as np\n",
    "\n",
    "def binsearch(f, a, b, eps):\n",
    "    delta = eps / 4\n",
    "    if b - a < eps:\n",
    "        return a, 1, 0\n",
    "    x1 = (a + b) / 2 - delta\n",
    "    x2 = (a + b) / 2 + delta\n",
    "#     print(\"{} {} {} {}\".format(a, b, f(x1), f(x2)))\n",
    "    if f(x1) > f(x2):\n",
    "        first = x1\n",
    "        second = b\n",
    "    else:\n",
    "        first = a\n",
    "        second = x2\n",
    "    solution, iterations, fcalls = binsearch(f, first, second, eps)\n",
    "    return solution, iterations + 1, fcalls + 2"
   ]
  },
  {
   "cell_type": "code",
   "execution_count": 178,
   "metadata": {},
   "outputs": [
    {
     "data": {
      "text/plain": [
       "(-0.2300008797221067, 37, 72)"
      ]
     },
     "execution_count": 178,
     "metadata": {},
     "output_type": "execute_result"
    }
   ],
   "source": [
    "binsearch(f2, -1, 1, 1e-10)"
   ]
  },
  {
   "cell_type": "code",
   "execution_count": 179,
   "metadata": {},
   "outputs": [],
   "source": [
    "gold_2_k = (sqrt5 - 1) / 2\n",
    "gold_1_k = 1 - gold_2_k\n",
    "\n",
    "def gold(f, a, b, eps, prev=None):\n",
    "#     print(\"{} {}\".format(a, b))\n",
    "#     print(b - a)\n",
    "    if b - a < eps:\n",
    "        return a, 1, 0\n",
    "    x1 = a + gold_1_k * (b - a)\n",
    "    x2 = a + gold_2_k * (b - a)\n",
    "    \n",
    "    if prev is None:\n",
    "        f1 = f(x1)\n",
    "        f2 = f(x2)\n",
    "        current_calls = 2\n",
    "    elif prev[0] == 'left':\n",
    "        current_calls = 1\n",
    "        f1 = prev[1]\n",
    "        f2 = f(x2)\n",
    "    else:\n",
    "        current_calls = 1\n",
    "        f2 = prev[1]\n",
    "        f1 = f(x1)\n",
    "    \n",
    "    if f1 > f2:\n",
    "        first = x1\n",
    "        second = b\n",
    "        prev = ('left', f2)\n",
    "    else:\n",
    "        first = a\n",
    "        second = x2\n",
    "        prev = ('right', f1)\n",
    "    solution, iterations, fcalls = gold(f, first, second, eps, prev)\n",
    "    return solution, iterations + 1, fcalls + current_calls"
   ]
  },
  {
   "cell_type": "code",
   "execution_count": 180,
   "metadata": {},
   "outputs": [],
   "source": [
    "import numpy as np\n",
    "F_len = 200\n",
    "F = np.zeros(F_len).tolist()\n",
    "F[0] = F[1]  = 1\n",
    "for i in range(2, F_len):\n",
    "    F[i] = F[i - 1] + F[i - 2]\n",
    "\n",
    "def fibbonacci(f, a, b, eps, prev=None, k=None, n=None):\n",
    "    def find_n(a, b, eps):\n",
    "        for i in range(F_len):\n",
    "            if F[i] > (b - a) / eps:\n",
    "                return i - 2\n",
    "    \n",
    "    if k is None:\n",
    "        n = find_n(a, b, eps)\n",
    "        k = 1\n",
    "        \n",
    "    x1 = a + (F[n - k + 1] / F[n - k + 3]) * (b - a)\n",
    "    x2 = a + (F[n - k + 2] / F[n - k + 3]) * (b - a)\n",
    "    \n",
    "    if k == n:\n",
    "        return x1, 1, 0\n",
    "\n",
    "    \n",
    "    if k == 1:\n",
    "        f1 = f(x1)\n",
    "        f2 = f(x2)\n",
    "        current_calls = 2\n",
    "    elif prev[0] == 'left':\n",
    "        current_calls = 1\n",
    "        f1 = prev[1]\n",
    "        f2 = f(x2)\n",
    "    else:\n",
    "        current_calls = 1\n",
    "        f2 = prev[1]\n",
    "        f1 = f(x1)\n",
    "    \n",
    "    if f1 > f2:\n",
    "        first = x1\n",
    "        second = b\n",
    "        prev = ('left', f2)\n",
    "    else:\n",
    "        first = a\n",
    "        second = x2\n",
    "        prev = ('right', f1)\n",
    "    solution, iterations, fcalls = fibbonacci(f, first, second, eps, prev, k + 1, n)\n",
    "    return solution, iterations + 1, fcalls + current_calls\n",
    "        \n",
    "    "
   ]
  },
  {
   "cell_type": "code",
   "execution_count": 181,
   "metadata": {},
   "outputs": [
    {
     "data": {
      "text/plain": [
       "(-0.2300008797221067, 37, 72)"
      ]
     },
     "execution_count": 181,
     "metadata": {},
     "output_type": "execute_result"
    }
   ],
   "source": [
    "binsearch(f2, -1, 1, 1e-10)"
   ]
  },
  {
   "cell_type": "code",
   "execution_count": 182,
   "metadata": {},
   "outputs": [
    {
     "data": {
      "text/plain": [
       "(-0.23000000745628116, 51, 51)"
      ]
     },
     "execution_count": 182,
     "metadata": {},
     "output_type": "execute_result"
    }
   ],
   "source": [
    "gold(f2, -1, 1, 1e-10)"
   ]
  },
  {
   "cell_type": "code",
   "execution_count": 183,
   "metadata": {},
   "outputs": [
    {
     "name": "stdout",
     "output_type": "stream",
     "text": [
      "[10, 13, 17, 20, 23, 27, 30, 33]\n",
      "[13, 17, 22, 27, 32, 36, 41, 46]\n",
      "[10, 15, 20, 25, 29, 34, 39, 44]\n"
     ]
    },
    {
     "data": {
      "image/png": "[encoded data removed]",
      "text/plain": [
       "<Figure size 432x288 with 1 Axes>"
      ]
     },
     "metadata": {
      "needs_background": "light"
     },
     "output_type": "display_data"
    },
    {
     "name": "stdout",
     "output_type": "stream",
     "text": [
      "[18, 24, 32, 38, 44, 52, 58, 64]\n",
      "[13, 17, 22, 27, 32, 36, 41, 46]\n",
      "[10, 15, 20, 25, 29, 34, 39, 44]\n"
     ]
    },
    {
     "data": {
      "image/png": "[encoded data removed]",
      "text/plain": [
       "<Figure size 432x288 with 1 Axes>"
      ]
     },
     "metadata": {
      "needs_background": "light"
     },
     "output_type": "display_data"
    }
   ],
   "source": [
    "from matplotlib import pyplot as plt\n",
    "\n",
    "methods = [binsearch, gold]\n",
    "\n",
    "def plot_stat(f, method, name, precs, stat_name):\n",
    "    results = [method(f, -1, 1, 10 ** (-prec)) for prec in precs]\n",
    "    iterations = [res[1] for res in results]\n",
    "    fcalls = [res[2] for res in results]\n",
    "    if stat_name == 'iterations':\n",
    "        stat_f = iterations\n",
    "    else:\n",
    "        stat_f = fcalls\n",
    "    print(stat_f)\n",
    "    plt.plot(precs, stat_f, label='{}_{}'.format(name, stat_name))\n",
    "    \n",
    "prec_range = range(2, 10)\n",
    "\n",
    "plot_stat(f2, binsearch, 'binsearch', prec_range, 'iterations')\n",
    "plot_stat(f2, gold, 'gold', prec_range, 'iterations')\n",
    "plot_stat(f2, fibbonacci, 'fib', prec_range, 'iterations')\n",
    "plt.legend()\n",
    "plt.show()\n",
    "\n",
    "plot_stat(f2, binsearch, 'binsearch', prec_range, 'fcalls')\n",
    "plot_stat(f2, gold, 'gold', prec_range, 'fcalls')\n",
    "plot_stat(f2, fibbonacci, 'fib', prec_range, 'fcalls')\n",
    "plt.legend()\n",
    "plt.show()"
   ]
  },
  {
   "cell_type": "markdown",
   "metadata": {},
   "source": [
    "### Одномерный поиск\n",
    "На графиках представлена зависимость количества итераций метода и вызовов минимизируемых фукнций от необходимой точности. На оси x отмечены log(precision). Видно, что бинарный поиск требует меньше итераций в константу раз, нежели метод фиббоначчи и золотого сечения (это связано с основанием экспоненциальной функции уменьшения границ интервала). Тем не менее в методах фиббоначчи и золотого сечения количество вызовов минимизируемой функции удается сократить до количества итераций, что в константу раз меньше, чем при бинарном поиске."
   ]
  },
  {
   "cell_type": "code",
   "execution_count": 184,
   "metadata": {},
   "outputs": [],
   "source": [
    "f3 = lambda x: (x[0] + 1) ** 2 - 1\n",
    "f3_grad = lambda x: [2 * (x[0] + 1)]\n",
    "\n",
    "f4 = lambda x: x[0] ** 2 + x[1] ** 2\n",
    "f4_grad = lambda x: [x[0] * 2, x[1] * 2]\n",
    "\n",
    "step_resolver_const = lambda x, y, z, w: [0.4]\n",
    "\n",
    "def minus(x, y):\n",
    "    return [x[i] - y[i] for i in range(len(x))]\n",
    "\n",
    "\n",
    "def mult(a, x):\n",
    "    return [a * xi for xi in x]\n",
    "\n",
    "def norm(x):\n",
    "    return math.sqrt(sum([xi ** 2 for xi in x]))\n",
    "\n",
    "def descent(x_0, f, fgrad, prec, step_resolver=None, lin_search=False):\n",
    "    x = x_0\n",
    "    step = 1e-1\n",
    "    stop = False\n",
    "    iterations = 0\n",
    "    trace = [(x, f(x))]\n",
    "    while not stop:\n",
    "        f_cur = f(x)\n",
    "        fgrad_cur = fgrad(x)\n",
    "        if lin_search:\n",
    "            step = linear_search(x, f, fgrad_cur)\n",
    "        else:\n",
    "            step = step_resolver(lambda st: f(minus(x, mult(st, fgrad_cur))), 0, 1, 1e-5)[0]\n",
    "        x = minus(x, mult(step, fgrad_cur))\n",
    "        stop = norm(mult(step, fgrad_cur)) < prec\n",
    "        iterations += 1\n",
    "        trace.append((x, f(x)))\n",
    "    return x, iterations, trace"
   ]
  },
  {
   "cell_type": "code",
   "execution_count": 185,
   "metadata": {},
   "outputs": [],
   "source": [
    "def linear_search(x, f, fgrad_cur):\n",
    "    delta = 0.5\n",
    "    epsilon = 0.5\n",
    "    lk = 1\n",
    "    while f(minus(x, mult(lk, fgrad_cur))) > f(x) - epsilon * lk * (norm(fgrad_cur) ** 2):\n",
    "        lk /= 2\n",
    "    print(lk)\n",
    "    return lk"
   ]
  },
  {
   "cell_type": "code",
   "execution_count": 186,
   "metadata": {},
   "outputs": [
    {
     "name": "stdout",
     "output_type": "stream",
     "text": [
      "0.5\n",
      "1\n"
     ]
    },
    {
     "data": {
      "text/plain": [
       "([-1.0], 2, [([0.7], 1.8899999999999997), ([-1.0], -1.0), ([-1.0], -1.0)])"
      ]
     },
     "execution_count": 186,
     "metadata": {},
     "output_type": "execute_result"
    }
   ],
   "source": [
    "descent([0.7], f3, f3_grad, 1e-15, step_resolver_const, True)"
   ]
  },
  {
   "cell_type": "code",
   "execution_count": 187,
   "metadata": {},
   "outputs": [
    {
     "name": "stdout",
     "output_type": "stream",
     "text": [
      "0.5\n",
      "1\n"
     ]
    },
    {
     "data": {
      "text/plain": [
       "2"
      ]
     },
     "execution_count": 187,
     "metadata": {},
     "output_type": "execute_result"
    }
   ],
   "source": [
    "descent([0.7, 0.7], f4, f4_grad, 1e-15, lin_search=True)[1]"
   ]
  },
  {
   "cell_type": "code",
   "execution_count": 188,
   "metadata": {},
   "outputs": [
    {
     "name": "stdout",
     "output_type": "stream",
     "text": [
      "0.5\n",
      "1\n"
     ]
    },
    {
     "data": {
      "text/plain": [
       "([0.0, 0.0],\n",
       " 2,\n",
       " [([0.7, 0.8], 1.1300000000000001), ([0.0, 0.0], 0.0), ([0.0, 0.0], 0.0)])"
      ]
     },
     "execution_count": 188,
     "metadata": {},
     "output_type": "execute_result"
    }
   ],
   "source": [
    "descent([0.7, 0.8], f4, f4_grad, 1e-15, lin_search=True)"
   ]
  },
  {
   "cell_type": "code",
   "execution_count": 189,
   "metadata": {},
   "outputs": [
    {
     "data": {
      "text/plain": [
       "([2.249076010737093e-25, 2.5703725837210296e-25],\n",
       " 5,\n",
       " [([0.7, 0.8], 1.1300000000000001),\n",
       "  ([8.840549468924763e-06, 1.0103485107437749e-05], 1.8023572622872228e-10),\n",
       "  ([1.1165044987520808e-10, 1.27600514144305e-10], 2.874771416722733e-20),\n",
       "  ([1.4100733219354196e-15, 1.6115123679298866e-15], 4.5852788852249796e-30),\n",
       "  ([1.7808318510586133e-20, 2.0352364012295653e-20], 7.31354929063472e-40),\n",
       "  ([2.249076010737093e-25, 2.5703725837210296e-25], 1.1665158121217797e-49)])"
      ]
     },
     "execution_count": 189,
     "metadata": {},
     "output_type": "execute_result"
    }
   ],
   "source": [
    "descent([0.7, 0.8], f4, f4_grad, 1e-15, step_resolver=binsearch)"
   ]
  },
  {
   "cell_type": "code",
   "execution_count": 190,
   "metadata": {},
   "outputs": [
    {
     "data": {
      "text/plain": [
       "([6.057376607357365e-21, 6.922716122581437e-21],\n",
       " 4,\n",
       " [([0.7, 0.8], 1.1300000000000001),\n",
       "  ([6.751412975014581e-06, 7.715900542826226e-06], 1.051166983459813e-10),\n",
       "  ([6.511653879881399e-11, 7.44189014831488e-11], 9.778336523096052e-21),\n",
       "  ([6.280409213363924e-16, 7.177610529447987e-16], 9.096163279974905e-31),\n",
       "  ([6.057376607357365e-21, 6.922716122581437e-21], 8.46158098772092e-41)])"
      ]
     },
     "execution_count": 190,
     "metadata": {},
     "output_type": "execute_result"
    }
   ],
   "source": [
    "descent([0.7, 0.8], f4, f4_grad, 1e-15, step_resolver=gold)"
   ]
  },
  {
   "cell_type": "code",
   "execution_count": 200,
   "metadata": {},
   "outputs": [
    {
     "name": "stdout",
     "output_type": "stream",
     "text": [
      "0.5\n",
      "0.5\n",
      "0.5\n",
      "0.5\n",
      "0.5\n",
      "0.5\n",
      "0.5\n",
      "0.5\n",
      "0.5\n",
      "0.5\n"
     ]
    },
    {
     "data": {
      "image/png": "[encoded data removed]",
      "text/plain": [
       "<Figure size 432x288 with 1 Axes>"
      ]
     },
     "metadata": {
      "needs_background": "light"
     },
     "output_type": "display_data"
    }
   ],
   "source": [
    "from matplotlib import pyplot as plt\n",
    "\n",
    "methods = [step_resolver_const, binsearch, gold, fibbonacci]\n",
    "\n",
    "method_names = {\n",
    "    step_resolver_const : 'const',\n",
    "    binsearch : 'binsearch',\n",
    "    gold : 'gold',\n",
    "    fibbonacci : 'fib'\n",
    "}\n",
    "\n",
    "prec_range = range(2, 12)\n",
    "\n",
    "for method in methods:\n",
    "    plt.plot(prec_range, [descent([0.6], f3, f3_grad, 10 ** (-prec), step_resolver=method)[1] for prec in prec_range], \n",
    "             label=method_names[method])\n",
    "\n",
    "plt.plot(prec_range, [descent([0.6], f3, f3_grad, prec, lin_search=True)[1] for prec in prec_range], \n",
    "    label='lin_search')\n",
    "\n",
    "plt.legend()\n",
    "plt.show()"
   ]
  },
  {
   "cell_type": "code",
   "execution_count": 145,
   "metadata": {},
   "outputs": [],
   "source": [
    "def draw_function(f, f_grad, method, x_min, x_max, x_step, y_min, y_max, y_step, levels):\n",
    "    trace = descent([0.5], f, f_grad, method)[2]\n",
    "    print('Answer =', trace[-1])\n",
    "#     print(len(trace), 'steps')\n",
    "    \n",
    "    x_s = np.arange(x_min, x_max, x_step)\n",
    "    y_s = np.arange(y_min, y_max, y_step)\n",
    "    z_s = np.array([[f(np.array([x, y])) for x in x_s] for y in y_s])\n",
    "    \n",
    "    plt.figure()\n",
    "#     cs = plt.contour(x_s, y_s, z_s, levels=levels)\n",
    "    # plt.clabel(cs)\n",
    "    xspace = np.linspace(x_min, x_max)\n",
    "    plt.plot(xspace, [f([xi]) for xi in xspace])\n",
    "    for i in range(len(trace) - 1):\n",
    "        cur_point = trace[i]\n",
    "        print(cur_point)\n",
    "        next_point = trace[i + 1]\n",
    "        plt.scatter([cur_point[0]], [cur_point[1]])\n",
    "        plt.plot([cur_point[0], next_point[0]], [cur_point[1], next_point[1]])\n",
    "    plt.grid()\n",
    "    plt.show()"
   ]
  },
  {
   "cell_type": "code",
   "execution_count": 146,
   "metadata": {},
   "outputs": [
    {
     "name": "stdout",
     "output_type": "stream",
     "text": [
      "Answer = ([-0.9999999999901696], -1.0)\n",
      "17 steps\n",
      "([0.5], 1.25)\n",
      "([-0.7000000000000002], -0.9100000000000001)\n",
      "([-0.9400000000000001], -0.9964)\n",
      "([-0.988], -0.999856)\n",
      "([-0.9976], -0.99999424)\n",
      "([-0.99952], -0.9999997696)\n",
      "([-0.999904], -0.999999990784)\n",
      "([-0.9999808], -0.99999999963136)\n",
      "([-0.99999616], -0.9999999999852544)\n",
      "([-0.999999232], -0.9999999999994101)\n",
      "([-0.9999998464], -0.9999999999999764)\n",
      "([-0.99999996928], -0.999999999999999)\n",
      "([-0.999999993856], -1.0)\n",
      "([-0.9999999987712], -1.0)\n",
      "([-0.99999999975424], -1.0)\n",
      "([-0.999999999950848], -1.0)\n"
     ]
    },
    {
     "data": {
      "image/png": "[encoded data removed]",
      "text/plain": [
       "<Figure size 432x288 with 1 Axes>"
      ]
     },
     "metadata": {
      "needs_background": "light"
     },
     "output_type": "display_data"
    }
   ],
   "source": [
    "show_trace_marker = lambda trace: [trace[i] for i in range(len(trace)) if i % 100 == 0 or i < 10]\n",
    "draw_function(f3, f3_grad, step_resolver_const, -2, 2, 1e-2, 0, 2, 1e-2, 5)"
   ]
  },
  {
   "cell_type": "code",
   "execution_count": 147,
   "metadata": {},
   "outputs": [
    {
     "name": "stdout",
     "output_type": "stream",
     "text": [
      "Answer = ([-0.9999997984875932], -0.9999999999999594)\n",
      "4 steps\n",
      "([0.5], 1.25)\n",
      "([-0.9999741118621828], -0.9999999993298043)\n",
      "([-0.9999997984875932], -0.9999999999999594)\n"
     ]
    },
    {
     "data": {
      "image/png": "[encoded data removed]",
      "text/plain": [
       "<Figure size 432x288 with 1 Axes>"
      ]
     },
     "metadata": {
      "needs_background": "light"
     },
     "output_type": "display_data"
    }
   ],
   "source": [
    "draw_function(f3, f3_grad, binsearch, -2, 2, 1e-2, 0, 2, 1e-2, 5)"
   ]
  },
  {
   "cell_type": "code",
   "execution_count": 148,
   "metadata": {},
   "outputs": [
    {
     "name": "stdout",
     "output_type": "stream",
     "text": [
      "Answer = ([-0.999999992549388], -0.9999999999999999)\n",
      "4 steps\n",
      "([0.5], 1.25)\n",
      "([-0.9999855326864822], -0.9999999997906969)\n",
      "([-0.9999999924884143], -0.9999999999999999)\n"
     ]
    },
    {
     "data": {
      "image/png": "[encoded data removed]",
      "text/plain": [
       "<Figure size 432x288 with 1 Axes>"
      ]
     },
     "metadata": {
      "needs_background": "light"
     },
     "output_type": "display_data"
    }
   ],
   "source": [
    "draw_function(f3, f3_grad, gold, -2, 2, 1e-2, 0, 2, 1e-2, 5)"
   ]
  },
  {
   "cell_type": "code",
   "execution_count": null,
   "metadata": {},
   "outputs": [],
   "source": []
  },
  {
   "cell_type": "code",
   "execution_count": null,
   "metadata": {},
   "outputs": [],
   "source": []
  }
 ],
 "metadata": {
  "kernelspec": {
   "display_name": "Python 3",
   "language": "python",
   "name": "python3"
  },
  "language_info": {
   "codemirror_mode": {
    "name": "ipython",
    "version": 3
   },
   "file_extension": ".py",
   "mimetype": "text/x-python",
   "name": "python",
   "nbconvert_exporter": "python",
   "pygments_lexer": "ipython3",
   "version": "3.7.6"
  }
 },
 "nbformat": 4,
 "nbformat_minor": 4
}
